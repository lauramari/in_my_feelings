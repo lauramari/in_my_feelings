{
  "nbformat": 4,
  "nbformat_minor": 0,
  "metadata": {
    "colab": {
      "name": "SBERT_in_my_feelings.ipynb",
      "provenance": [],
      "authorship_tag": "ABX9TyODE1qhyYTSUjIcFD4QcdSm",
      "include_colab_link": true
    },
    "kernelspec": {
      "name": "python3",
      "display_name": "Python 3"
    }
  },
  "cells": [
    {
      "cell_type": "markdown",
      "metadata": {
        "id": "view-in-github",
        "colab_type": "text"
      },
      "source": [
        "<a href=\"https://colab.research.google.com/github/lauramari/in_my_feelings/blob/main/SBERT_in_my_feelings.ipynb\" target=\"_parent\"><img src=\"https://colab.research.google.com/assets/colab-badge.svg\" alt=\"Open In Colab\"/></a>"
      ]
    },
    {
      "cell_type": "code",
      "metadata": {
        "id": "bp8EozpFjOdc"
      },
      "source": [
        "!pip install transformers"
      ],
      "execution_count": null,
      "outputs": []
    },
    {
      "cell_type": "code",
      "metadata": {
        "id": "VaK1ZnVIlt28"
      },
      "source": [
        "import pandas as pd\n"
      ],
      "execution_count": 2,
      "outputs": []
    },
    {
      "cell_type": "code",
      "metadata": {
        "id": "9OQ67Fb0l9On"
      },
      "source": [
        "df = pd.read_csv('/content/test.csv', delimiter=';', header=None, names=['sentence', 'label'])"
      ],
      "execution_count": 4,
      "outputs": []
    },
    {
      "cell_type": "code",
      "metadata": {
        "id": "pQkNFbhrmWuq",
        "outputId": "c7fa1d32-05f2-43ce-867c-29bdcb340b2c",
        "colab": {
          "base_uri": "https://localhost:8080/"
        }
      },
      "source": [
        "df.info()"
      ],
      "execution_count": 7,
      "outputs": [
        {
          "output_type": "stream",
          "text": [
            "<class 'pandas.core.frame.DataFrame'>\n",
            "RangeIndex: 2000 entries, 0 to 1999\n",
            "Data columns (total 2 columns):\n",
            " #   Column    Non-Null Count  Dtype \n",
            "---  ------    --------------  ----- \n",
            " 0   sentence  2000 non-null   object\n",
            " 1   label     2000 non-null   object\n",
            "dtypes: object(2)\n",
            "memory usage: 31.4+ KB\n"
          ],
          "name": "stdout"
        }
      ]
    },
    {
      "cell_type": "markdown",
      "metadata": {
        "id": "gemDWuXHm_e-"
      },
      "source": [
        "Convert labels to integers"
      ]
    },
    {
      "cell_type": "code",
      "metadata": {
        "id": "4dJ3QP2bnCYK"
      },
      "source": [
        "label_dict = {}\n",
        "for integer, label in enumerate (df['label'].unique()):\n",
        "  label_dict[label]=integer"
      ],
      "execution_count": 18,
      "outputs": []
    },
    {
      "cell_type": "code",
      "metadata": {
        "id": "8v4lzwcbommO"
      },
      "source": [
        "df['label_value'] = df['label'].map(lambda x : label_dict[x])"
      ],
      "execution_count": 20,
      "outputs": []
    },
    {
      "cell_type": "markdown",
      "metadata": {
        "id": "so3J_m0xp3mX"
      },
      "source": [
        "Encode sentence using SBERT"
      ]
    },
    {
      "cell_type": "code",
      "metadata": {
        "id": "nOBNPM21p8Tl",
        "outputId": "88d68f92-b884-4b5b-d682-c8f21c257d2a",
        "colab": {
          "base_uri": "https://localhost:8080/"
        }
      },
      "source": [
        "df.sentence.values"
      ],
      "execution_count": 24,
      "outputs": [
        {
          "output_type": "execute_result",
          "data": {
            "text/plain": [
              "array(['im feeling rather rotten so im not very ambitious right now',\n",
              "       'im updating my blog because i feel shitty',\n",
              "       'i never make her separate from me because i don t ever want her to feel like i m ashamed with her',\n",
              "       ...,\n",
              "       'i feel that i am useful to my people and that gives me a great feeling of achievement',\n",
              "       'im feeling more comfortable with derby i feel as though i can start to step out my shell',\n",
              "       'i feel all weird when i have to meet w people i text but like dont talk face to face w'],\n",
              "      dtype=object)"
            ]
          },
          "metadata": {
            "tags": []
          },
          "execution_count": 24
        }
      ]
    }
  ]
}